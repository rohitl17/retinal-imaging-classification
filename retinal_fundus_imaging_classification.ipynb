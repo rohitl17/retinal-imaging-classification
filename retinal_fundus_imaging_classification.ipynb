{
 "cells": [
  {
   "cell_type": "markdown",
   "metadata": {
    "id": "5dV4GCHKVpWH"
   },
   "source": [
    "# Step 0: Exploratory Data Analysis\n",
    "\n",
    "Explore the data and share your insights!"
   ]
  },
  {
   "cell_type": "code",
   "execution_count": 1,
   "metadata": {
    "id": "UEFKaXkbVpWI"
   },
   "outputs": [],
   "source": [
    "# Importing Required Libraries\n",
    "import numpy as np\n",
    "import pandas as pd\n",
    "import matplotlib.pyplot as plt\n",
    "import pathlib\n",
    "import cv2\n",
    "\n",
    "import os\n",
    "from keras.layers import Dense, Input, Conv2D, Conv2DTranspose, Flatten, Reshape\n",
    "from keras.models import Model\n",
    "from keras.callbacks import ReduceLROnPlateau, ModelCheckpoint\n",
    "from keras import backend as K\n",
    "\n",
    "from sklearn.metrics import accuracy_score\n",
    "import glob, random\n",
    "\n",
    "import numpy as np\n",
    "from keras.applications.densenet import DenseNet121\n",
    "from keras.applications.vgg16 import VGG16\n",
    "import keras.backend as K\n",
    "\n",
    "from keras.callbacks import LearningRateScheduler,ReduceLROnPlateau,CSVLogger,ModelCheckpoint\n",
    "from tensorflow.keras.utils import to_categorical\n",
    "from sklearn.metrics import confusion_matrix, f1_score, precision_score, recall_score,roc_auc_score\n",
    "from sklearn.metrics import cohen_kappa_score,classification_report,auc,roc_curve\n",
    "from keras.callbacks import Callback\n",
    "from keras.layers import Dense\n",
    "\n",
    "from keras.models import Model\n",
    "from tensorflow.keras.optimizers import Adam\n",
    "from keras.preprocessing.image import ImageDataGenerator\n",
    "\n",
    "%matplotlib inline"
   ]
  },
  {
   "cell_type": "markdown",
   "metadata": {
    "id": "iytAt5DfVpWM"
   },
   "source": [
    "### Define the paths for the dataset "
   ]
  },
  {
   "cell_type": "code",
   "execution_count": 2,
   "metadata": {
    "colab": {
     "base_uri": "https://localhost:8080/"
    },
    "id": "WGBZX-bJYhWj",
    "outputId": "000410e8-9765-4a56-d5f3-1b2771155f3b"
   },
   "outputs": [
    {
     "name": "stdout",
     "output_type": "stream",
     "text": [
      "Mounted at /content/gdrive\n"
     ]
    }
   ],
   "source": [
    "# Since the work for this take home challenge is dine Google Colab, mounting google drive here\n",
    "from google.colab import drive\n",
    "drive.mount('/content/gdrive')"
   ]
  },
  {
   "cell_type": "code",
   "execution_count": 3,
   "metadata": {
    "id": "hEFzI4weVpWN"
   },
   "outputs": [],
   "source": [
    "data_path=pathlib.Path(\"/content/gdrive/My Drive/Colab Data/Data/\")\n",
    "# data_path = pathlib.Path(\"Data\") \n",
    "image_path = data_path/  'fundus_images'\n",
    "simple_model_subset_path = data_path/ 'simple_model_subset.csv'\n",
    "cnn_subset_path = data_path/ 'cnn_subset.csv'\n"
   ]
  },
  {
   "cell_type": "markdown",
   "metadata": {
    "id": "kVgNA4k5VpWO"
   },
   "source": [
    "### Load the label files"
   ]
  },
  {
   "cell_type": "code",
   "execution_count": 4,
   "metadata": {
    "id": "4fTN5NwQVpWP"
   },
   "outputs": [],
   "source": [
    "simple_model_subset = pd.read_csv(simple_model_subset_path, index_col=0)\n",
    "\n",
    "cnn_subset = pd.read_csv(cnn_subset_path, index_col=0)\n"
   ]
  },
  {
   "cell_type": "code",
   "execution_count": null,
   "metadata": {
    "id": "uoaOwfiuVpWS",
    "scrolled": false
   },
   "outputs": [],
   "source": [
    "print(simple_model_subset)\n",
    "print(cnn_subset)"
   ]
  },
  {
   "cell_type": "markdown",
   "metadata": {
    "id": "bZB0d8FtVpWU"
   },
   "source": [
    "### Define a function for loading images"
   ]
  },
  {
   "cell_type": "code",
   "execution_count": 6,
   "metadata": {
    "id": "nzaywC90VpWZ"
   },
   "outputs": [],
   "source": [
    "# Loading a single image at a time, resizing it to a constant size in order to avoid discrepancies while plotting images or building models\n",
    "def image_loader(image_path):\n",
    "  image=cv2.imread(image_path)\n",
    "  resized_image=cv2.resize(image, (768,768))\n",
    "  return resized_image"
   ]
  },
  {
   "cell_type": "markdown",
   "metadata": {
    "id": "CST67BPfVpWa"
   },
   "source": [
    "### Define a function for plotting sample images with their labels "
   ]
  },
  {
   "cell_type": "code",
   "execution_count": 7,
   "metadata": {
    "id": "FB1RxhTAVpWb"
   },
   "outputs": [],
   "source": [
    "def plot_image(image_path, label=-1, plt_axes=121):\n",
    "  fig, ax = plt.subplots(nrows=1,ncols=1,figsize=(10,10))                       # Using matplotlib for plotting images\n",
    "  plt.subplot(plt_axes)\n",
    "\n",
    "  image=image_loader(image_path)                                                # Calling image loader function to load images\n",
    "  plt.imshow(cv2.cvtColor(image,cv2.COLOR_BGR2RGB))\n",
    "\n",
    "  if label==-1:                                                                 # If the label does not exist, here the example images, we speciy that it is not given\n",
    "    plt.title(image_path.split('/')[-1]+\"  :  \"+ \"Self-explanatory Image Name\")\n",
    "  elif label==0:\n",
    "    plt.title(image_path.split('/')[-1]+\"  :  \"+ \"Good Quality Image\")\n",
    "  else:\n",
    "    plt.title(image_path.split('/')[-1]+\"  :  \"+ \"Bad Quality Image\")\n",
    "  plt.show()\n"
   ]
  },
  {
   "cell_type": "code",
   "execution_count": null,
   "metadata": {
    "id": "CQob6pC7e5tA"
   },
   "outputs": [],
   "source": [
    "# Plot example images and see if the above functions work\n",
    "example_images=\"/content/gdrive/My Drive/Colab Data/Data/examples/\"\n",
    "sample_images=glob.glob(example_images+'*')\n",
    "\n",
    "for image in sample_images:\n",
    "  plot_image(image)"
   ]
  },
  {
   "cell_type": "markdown",
   "metadata": {
    "id": "JpMZrY_hVpWc"
   },
   "source": [
    "### Plot and observe the differences between the bad and good images on a data subset "
   ]
  },
  {
   "cell_type": "code",
   "execution_count": null,
   "metadata": {
    "id": "5jvrFFt3VpWd"
   },
   "outputs": [],
   "source": [
    "#Plot some good quality images randomly\n",
    "\n",
    "good_quality_images=simple_model_subset.loc[simple_model_subset['quality']==0]\n",
    "\n",
    "for idx, row in good_quality_images.sample(25).iterrows():\n",
    "  plot_image(str(image_path)+'/'+row['image'], label=row['quality'], plt_axes=121)"
   ]
  },
  {
   "cell_type": "code",
   "execution_count": null,
   "metadata": {
    "id": "VMoetXO_jXNG"
   },
   "outputs": [],
   "source": [
    "# Plot some bad quality images randomly\n",
    "\n",
    "bad_quality_images=simple_model_subset.loc[simple_model_subset['quality']==1]\n",
    "\n",
    "for idx, row in bad_quality_images.sample(25).iterrows():\n",
    "  plot_image(str(image_path)+'/'+row['image'], label=row['quality'], plt_axes=121)"
   ]
  },
  {
   "cell_type": "markdown",
   "metadata": {
    "id": "xArZ4mNZVpWe"
   },
   "source": [
    "### Explore the Data "
   ]
  },
  {
   "cell_type": "code",
   "execution_count": 40,
   "metadata": {
    "colab": {
     "base_uri": "https://localhost:8080/"
    },
    "id": "R1KGmsSCVpWf",
    "outputId": "a7d216f8-5165-40c7-b03f-92ff049f98c4"
   },
   "outputs": [
    {
     "name": "stdout",
     "output_type": "stream",
     "text": [
      "Prevalence of Bad quality Images: 50.0\n",
      "Prevalence of Bad quality Images: 50.0\n"
     ]
    }
   ],
   "source": [
    "# Check the prevalence of  bad quality images in both the sets\n",
    "\n",
    "percentage_of_bad_quality_images=(sum(simple_model_subset['quality'])*100/len(simple_model_subset))\n",
    "print (\"Prevalence of Bad quality Images: \"+ str(percentage_of_bad_quality_images ))\n",
    "\n",
    "percentage_of_bad_quality_images=(sum(cnn_subset['quality'])*100/len(cnn_subset))\n",
    "print (\"Prevalence of Bad quality Images: \"+ str(percentage_of_bad_quality_images ))\n",
    "\n",
    "# Now that we know that the classes are balanced, we will use the default loss functions and not penalize one above the other."
   ]
  },
  {
   "cell_type": "code",
   "execution_count": null,
   "metadata": {
    "id": "OfSw_ldqk_rF"
   },
   "outputs": [],
   "source": [
    "# Now let's check the pixel values in the images\n",
    "\n",
    "images=np.zeros((len(simple_model_subset),768,768,3))\n",
    "\n",
    "for idx, row in simple_model_subset.iterrows():\n",
    "  image=image_loader(str(image_path)+'/'+row['image'])\n",
    "  images[idx]=image\n",
    "  print (\"Processing: \"+ str(idx)+ \"th image\")"
   ]
  },
  {
   "cell_type": "code",
   "execution_count": 49,
   "metadata": {
    "colab": {
     "base_uri": "https://localhost:8080/"
    },
    "id": "ph2FKbt1mQ5M",
    "outputId": "0ef6f3d9-a39b-4bd6-b1e6-54eadde07e44"
   },
   "outputs": [
    {
     "name": "stdout",
     "output_type": "stream",
     "text": [
      "0.0 255.0\n"
     ]
    }
   ],
   "source": [
    "print (np.min(images), np.max(images))\n",
    "\n",
    "# The images look normalized in a particular range, so we won't probably have to work on fixing the ranges by the looks of it"
   ]
  },
  {
   "cell_type": "markdown",
   "metadata": {
    "id": "N03CywODVpWf"
   },
   "source": [
    "# Step 1: Simple Model "
   ]
  },
  {
   "cell_type": "markdown",
   "metadata": {
    "id": "OnNnNaHvVpWg"
   },
   "source": [
    "Now that we gained insights about the dataset, we can start building models for predicting image quality. In this section, build a model for classifying the images into good and bad classes only using the small data subset. This subset has 300 images from good (label 0) and bad (label 1) classes. Given the size of the dataset, we do not expect you to train a neural network in this section. Feel free to use any other model you like. "
   ]
  },
  {
   "cell_type": "code",
   "execution_count": null,
   "metadata": {
    "id": "B52A9QnuVpWh"
   },
   "outputs": [],
   "source": [
    "# Preparing Data "
   ]
  },
  {
   "cell_type": "code",
   "execution_count": 36,
   "metadata": {
    "id": "2PJVJfJ4qIbL"
   },
   "outputs": [],
   "source": [
    "# Split the data keeping in mind the prevalence(Stratifed split)\n",
    "from sklearn.model_selection import train_test_split\n",
    "X_train,X_test,Y_train,Y_test=train_test_split(list(simple_model_subset['image']),list(simple_model_subset['quality']),test_size=0.20,random_state=42,stratify=list(simple_model_subset['quality']))"
   ]
  },
  {
   "cell_type": "code",
   "execution_count": null,
   "metadata": {
    "id": "E_8LcfKG0cn5"
   },
   "outputs": [],
   "source": [
    "images=np.zeros((len(X_train),64*64*3))\n",
    "labels=[0]*len(X_train)\n",
    "\n",
    "for idx, row in enumerate(X_train):\n",
    "  image=image_loader(str(image_path)+'/'+row)\n",
    "  image=cv2.resize(image, (64, 64))\n",
    "  images[idx]=image.flatten()\n",
    "  labels[idx]=Y_train[idx]\n",
    "  print (\"Processing: \"+ str(idx)+ \"th image\")\n",
    "\n",
    "labels=np.array(labels)\n",
    "\n",
    "x_train /= 255.\n"
   ]
  },
  {
   "cell_type": "code",
   "execution_count": null,
   "metadata": {
    "id": "utN2aKVC0uId"
   },
   "outputs": [],
   "source": [
    "images=np.zeros((len(X_test),64*64*3))\n",
    "labels=[0]*len(X_test)\n",
    "\n",
    "for idx, row in enumerate(X_test):\n",
    "  image=image_loader(str(image_path)+'/'+row)\n",
    "  image=cv2.resize(image, (64, 64))\n",
    "  images[idx]=image.flatten()\n",
    "  labels[idx]=Y_test[idx]\n",
    "  print (\"Processing: \"+ str(idx)+ \"th image\")\n",
    "\n",
    "labels=np.array(labels)\n",
    "\n",
    "x_test /= 255."
   ]
  },
  {
   "cell_type": "markdown",
   "metadata": {
    "id": "AHgIIlswVpWh"
   },
   "source": [
    "### Q: Define a model for training "
   ]
  },
  {
   "cell_type": "markdown",
   "metadata": {
    "id": "6STrGYyOVpWi"
   },
   "source": [
    "Tell us why you picked this model. What are the advantages/disadvantages?"
   ]
  },
  {
   "cell_type": "markdown",
   "metadata": {
    "id": "UA45vsTqVpWj"
   },
   "source": [
    "### Your Answer:"
   ]
  },
  {
   "cell_type": "code",
   "execution_count": null,
   "metadata": {
    "id": "U-UKLAXbsDRi"
   },
   "outputs": [],
   "source": [
    "# XGboost is a ensemble-tree based classifier. The boosting algorithms work on iterative classification minimizing error in subsequent trees. The final ensemble usually helps build the best one. \n",
    "# Since images have a ton of features, I think other algorithms are too like KNN are too simple and might underfit when trained on more amoount of data.\n",
    "# Decision trees on the other hand are prone to overfitting and might not generalize well."
   ]
  },
  {
   "cell_type": "code",
   "execution_count": 40,
   "metadata": {
    "id": "A80XoBeiVpWj"
   },
   "outputs": [],
   "source": [
    "import xgboost as xgb\n",
    "from sklearn.model_selection import cross_val_score\n",
    "import sklearn.metrics as metrics \n",
    "\n",
    "model = xgb.XGBClassifier()"
   ]
  },
  {
   "cell_type": "markdown",
   "metadata": {
    "id": "OMj-a9m9VpWk"
   },
   "source": [
    "### Q: Metrics\n",
    "\n",
    "- Explain what metrics you will use for evaluating model performance. \n",
    "- If the task was multi level classification (good, accept, bad), what metrics would you be looking at?\n",
    "- In the case where data is not evenly distributed accross classes, how would you modify the mentioned metrics or add other metrics to best present your model performance?\n",
    "\n",
    "### Your Answer: "
   ]
  },
  {
   "cell_type": "code",
   "execution_count": null,
   "metadata": {
    "id": "brEJ5LSSVpWk"
   },
   "outputs": [],
   "source": [
    "'''\n",
    "1. Generally, I would prefer looking at the classification report and the confusion matrix altogether to get a better hang of the model performance. But here I think, since the classes are balanced\n",
    "  we can look at the F1-score to understand how each of the classes perform. \n",
    "  From a overall product point of view, I think this model can be seen as a screening tool, so picking out bad quality images and removing them is more important because they would otherwise hamper the performance of \n",
    "  other models in the pipeline. So, specifically precision of good quality images is really important from that standpoint \n",
    "'''"
   ]
  },
  {
   "cell_type": "code",
   "execution_count": null,
   "metadata": {
    "id": "5lRUmXukVpWl"
   },
   "outputs": [],
   "source": [
    "'''\n",
    "2. If this model was a multi-class/multi-level classification model and the classes are imbalanced, I would still look at the F1-score of each of the classes and accordingly penalize the losses in experiments if required.\n",
    " Since, again F1-score is the harmonic mean of precision and recall, I think we get the best of both worlds\n",
    "'''"
   ]
  },
  {
   "cell_type": "code",
   "execution_count": null,
   "metadata": {
    "id": "lCVvmPUQVpWo"
   },
   "outputs": [],
   "source": [
    "'''\n",
    "3. If the data is not evenly distributed, we can use Sensitivity/Recall and Specificity for the model to understand the model performance better. For example, lets say the prevalence of bad quality images is 10%.\n",
    "So I can cap the sensitivity at 90% and and try and the get the best specificity for the model. To determine the best sensitivity-specificity combination that aligns with the business metrics, \n",
    "we can use the ROC curve to determine the threshold for the model. I think for binary/multiclass classification its tough to just rely on a single metric, otherwise AUC score would have been a good metric to justify the overall model\n",
    "performance.\n",
    "'''"
   ]
  },
  {
   "cell_type": "markdown",
   "metadata": {
    "id": "21lFNI7gVpWp"
   },
   "source": [
    "### Q: Train & Test\n",
    "\n",
    "Train/test the model of your choice and present the results. \n",
    "\n",
    "### Your Answer:"
   ]
  },
  {
   "cell_type": "code",
   "execution_count": 41,
   "metadata": {
    "colab": {
     "base_uri": "https://localhost:8080/"
    },
    "id": "aH4Jbv3vVpWp",
    "outputId": "fc6d4402-5c78-4625-a6f5-be71783e861b"
   },
   "outputs": [
    {
     "name": "stderr",
     "output_type": "stream",
     "text": [
      "[Parallel(n_jobs=-1)]: Using backend LokyBackend with 2 concurrent workers.\n",
      "[Parallel(n_jobs=-1)]: Done   2 out of   2 | elapsed:   12.7s remaining:    0.0s\n",
      "[Parallel(n_jobs=-1)]: Done   2 out of   2 | elapsed:   12.7s finished\n"
     ]
    },
    {
     "name": "stdout",
     "output_type": "stream",
     "text": [
      "\n",
      "[0.91666667 0.86666667]\n",
      "\n",
      "XGBClassifier()\n"
     ]
    }
   ],
   "source": [
    "cv_results = cross_val_score(model, x_train, y_train, \n",
    "                cv = 2, scoring='accuracy', n_jobs = -1, verbose = 1)    \n",
    "\n",
    "model.fit(x_train, y_train, verbose=True)\n",
    "\n",
    "print(); print(cv_results)    \n",
    "print(); print(model)"
   ]
  },
  {
   "cell_type": "code",
   "execution_count": 42,
   "metadata": {
    "colab": {
     "base_uri": "https://localhost:8080/"
    },
    "id": "S-fNJ6mJVpWq",
    "outputId": "61c3f8ca-10e7-4a00-b7e5-a8ab2643af97"
   },
   "outputs": [
    {
     "name": "stdout",
     "output_type": "stream",
     "text": [
      "\n",
      "              precision    recall  f1-score   support\n",
      "\n",
      "           0       0.89      0.80      0.84        30\n",
      "           1       0.82      0.90      0.86        30\n",
      "\n",
      "    accuracy                           0.85        60\n",
      "   macro avg       0.85      0.85      0.85        60\n",
      "weighted avg       0.85      0.85      0.85        60\n",
      "\n",
      "\n",
      "[[24  6]\n",
      " [ 3 27]]\n"
     ]
    }
   ],
   "source": [
    "# make predictions\n",
    "expected_y  = y_test\n",
    "predicted_y = model.predict(x_test)\n",
    "\n",
    "# summarize the fit of the model\n",
    "print(); print(metrics.classification_report(expected_y, predicted_y))\n",
    "print(); print(metrics.confusion_matrix(expected_y, predicted_y))"
   ]
  },
  {
   "cell_type": "markdown",
   "metadata": {
    "id": "b3cHCaGjVpWq"
   },
   "source": [
    "### Q: Plotting Predictions\n",
    "\n",
    "Part of making a good model is visualizing the results. Update the image plotting function to inspect where the model is working and where it is not. \n",
    "\n",
    "### Your Answer:"
   ]
  },
  {
   "cell_type": "code",
   "execution_count": null,
   "metadata": {
    "id": "52ELW6jPVpWr"
   },
   "outputs": [],
   "source": [
    "# Plot images where the model is working\n",
    "for idx, row in enumerate(expected_y):\n",
    "  if row==predicted_y[idx]:\n",
    "    plot_image(str(image_path)+'/'+X_test[idx], label=row)\n"
   ]
  },
  {
   "cell_type": "code",
   "execution_count": null,
   "metadata": {
    "id": "cCIMcsrtVpWr"
   },
   "outputs": [],
   "source": [
    "# Plot images where the model is not working\n",
    "\n",
    "for idx, row in enumerate(expected_y):\n",
    "  if row!=predicted_y[idx]:\n",
    "    plot_image(str(image_path)+'/'+X_test[idx], label=row)"
   ]
  },
  {
   "cell_type": "markdown",
   "metadata": {
    "id": "HMixFeEoVpWs"
   },
   "source": [
    "### Q: Improvements \n",
    "\n",
    "Describe what steps, if any, should be taken to make the model perform better.\n",
    "\n",
    "### Your Answer:"
   ]
  },
  {
   "cell_type": "code",
   "execution_count": 28,
   "metadata": {
    "colab": {
     "base_uri": "https://localhost:8080/",
     "height": 35
    },
    "id": "kYiUe0a3VpWs",
    "outputId": "5f95c98e-8388-4d67-8b61-2edcdaae268d"
   },
   "outputs": [
    {
     "data": {
      "application/vnd.google.colaboratory.intrinsic+json": {
       "type": "string"
      },
      "text/plain": [
       "'\\n1. I think the current model performance is decent with the number of the images it has been trained on. But in order to further improve, we can use Grid Search CV to figure out optimal hyperparameters.\\n'"
      ]
     },
     "execution_count": 28,
     "metadata": {},
     "output_type": "execute_result"
    }
   ],
   "source": [
    "'''\n",
    "1. I think the current model performance is decent with the number of the images it has been trained on. But in order to further improve, we can use Grid Search CV to figure out optimal hyperparameters.\n",
    "2. Trying out other models like Random Forest and maybe some other traditional ML algorithms would help\n",
    "3. On looking at the above images, it feels the model is misclassifying on images where the brightness and contrast lies in a confusing range. One way to fix this would be using photometric augmentations to perform better.\n",
    "'''"
   ]
  },
  {
   "cell_type": "code",
   "execution_count": null,
   "metadata": {
    "id": "TrxaeOIRVpWt"
   },
   "outputs": [],
   "source": []
  },
  {
   "cell_type": "markdown",
   "metadata": {
    "id": "MkDilTpvVpWu"
   },
   "source": [
    "# Step 2: CNN Model"
   ]
  },
  {
   "cell_type": "markdown",
   "metadata": {
    "id": "pAz2WqMpVpWv"
   },
   "source": [
    "In this section, we will train a CNN model to classify the images into good and bad classes using the larger data subset. This dataset has 1000 images good (label 0) and bad (label 1) classes. Feel free to use any model including \n",
    "pre-trained models. "
   ]
  },
  {
   "cell_type": "code",
   "execution_count": 15,
   "metadata": {
    "id": "gAc9D579VpWv"
   },
   "outputs": [],
   "source": [
    "imagenet_mean = np.array([0.485, 0.456, 0.406])\n",
    "imagenet_std = np.array([0.229, 0.224, 0.225])\n",
    "\n",
    "def img_standardization(x):\n",
    "    \n",
    "    x=x.astype('float16')/255.\n",
    "    return ((x-imagenet_mean)/imagenet_std)\n",
    "\n",
    "# Training batch generator\n",
    "def batch_generator(X, Y, batch_size = 32):\n",
    "    indices = np.arange(len(X))\n",
    "    batch=[]\n",
    "    while True:\n",
    "            # it might be a good idea to shuffle your data before each epoch\n",
    "            np.random.shuffle(indices)\n",
    "            for i in indices:\n",
    "                batch.append(i)\n",
    "                if len(batch)==batch_size:\n",
    "                    x=img_standardization(x)\n",
    "                    yield x, Y[batch]\n",
    "                    batch=[]\n",
    "\n",
    "\n",
    "# Validation Batch Generator\n",
    "def batch_generator_val(X, Y, batch_size = 32):\n",
    "    indices = np.arange(len(X))\n",
    "    batch=[]\n",
    "    while True:\n",
    "            for i in indices:\n",
    "                batch.append(i)\n",
    "                if len(batch)==batch_size:\n",
    "                    x=img_standardization(x)\n",
    "                    yield x, Y[batch]\n",
    "                    batch=[]"
   ]
  },
  {
   "cell_type": "code",
   "execution_count": 9,
   "metadata": {
    "id": "N4ejbcDCVpWw"
   },
   "outputs": [],
   "source": [
    "from sklearn.model_selection import train_test_split\n",
    "\n",
    "X_train,X_val,Y_train,Y_val=train_test_split(list(cnn_subset['image']),list(cnn_subset['quality']),test_size=0.20,random_state=42,stratify=list(cnn_subset['quality']))"
   ]
  },
  {
   "cell_type": "code",
   "execution_count": 31,
   "metadata": {
    "id": "6hBKNGXpzyIM"
   },
   "outputs": [],
   "source": [
    "def dataloader(files, labels, batchsize):\n",
    "  inputs = []\n",
    "  targets = []\n",
    "  batchcount = 0\n",
    "  while True:\n",
    "    for idx, image in enumerate(files):\n",
    "        inputs.append(cv2.resize(cv2.imread(str(image_path)+'/'+image), (224,224)))\n",
    "        targets.append(labels[idx])\n",
    "        batchcount += 1\n",
    "        if batchcount > batchsize:\n",
    "          X = np.array(inputs, dtype='float32')\n",
    "          X=img_standardization(X)\n",
    "\n",
    "          y = np.array(targets, dtype='float32')\n",
    "          y=to_categorical(y,num_classes=2)\n",
    "\n",
    "          yield (X, y)\n",
    "          inputs = []\n",
    "          targets = []\n",
    "          batchcount = 0\n",
    "\n",
    "\n",
    "def predict_dataloader(files, batchsize):\n",
    "  inputs = []\n",
    "  targets = []\n",
    "  batchcount = 0\n",
    "  while True:\n",
    "    for idx, image in enumerate(files):\n",
    "        inputs.append(cv2.resize(cv2.imread(str(image_path)+'/'+image), (224,224)))\n",
    "        batchcount += 1\n",
    "        if batchcount > batchsize:\n",
    "          X = np.array(inputs, dtype='float32')\n",
    "          X=img_standardization(X)\n",
    "\n",
    "          yield (X)\n",
    "          inputs = []\n",
    "          targets = []\n",
    "          batchcount = 0"
   ]
  },
  {
   "cell_type": "markdown",
   "metadata": {
    "id": "CyvPzT3gVpWw"
   },
   "source": [
    "## Q: Loss function\n",
    "\n",
    "Your model predicts the quality of an image. At this step we have two classes: good and bad. Tell us which loss function you will be using & why?\n",
    "\n",
    "### Your Answer:\n",
    "Intuitively, since it's a classification problem I'll start with binary crossentropy which is a log loss, since it penalizes the more on classes predicted incorrectly with high confidence. "
   ]
  },
  {
   "cell_type": "code",
   "execution_count": 11,
   "metadata": {
    "id": "r-AjbHht68ox"
   },
   "outputs": [],
   "source": []
  },
  {
   "cell_type": "code",
   "execution_count": 19,
   "metadata": {
    "colab": {
     "base_uri": "https://localhost:8080/"
    },
    "id": "-RcKQEmeVpW0",
    "outputId": "021932dd-e76a-479e-b132-f9012a5a21b7"
   },
   "outputs": [
    {
     "name": "stderr",
     "output_type": "stream",
     "text": [
      "/usr/local/lib/python3.7/dist-packages/keras/optimizer_v2/adam.py:105: UserWarning: The `lr` argument is deprecated, use `learning_rate` instead.\n",
      "  super(Adam, self).__init__(name, **kwargs)\n"
     ]
    },
    {
     "name": "stdout",
     "output_type": "stream",
     "text": [
      "Downloading data from https://storage.googleapis.com/tensorflow/keras-applications/densenet/densenet121_weights_tf_dim_ordering_tf_kernels_notop.h5\n",
      "29089792/29084464 [==============================] - 1s 0us/step\n",
      "29097984/29084464 [==============================] - 1s 0us/step\n"
     ]
    }
   ],
   "source": [
    "adam=Adam(lr=1e-3)\n",
    "\n",
    "#Model declaration:VGG \n",
    "# dense_model = VGG16(weights='imagenet', include_top=False,input_shape=(224,224,3),pooling='avg')     #Did not work out well\n",
    "\n",
    "dense_model = DenseNet121(weights='imagenet', include_top=False,input_shape=(224,224,3),pooling='avg')\n",
    "preds = Dense(2,activation='softmax')(dense_model.output)\n",
    "model = Model(dense_model.input,preds)\n",
    "\n",
    "#Model parameters for compiling\n",
    "\n",
    "model.compile(optimizer=adam,loss='binary_crossentropy',metrics=['accuracy'])"
   ]
  },
  {
   "cell_type": "code",
   "execution_count": 20,
   "metadata": {
    "id": "8BUmCLTTVpW0"
   },
   "outputs": [],
   "source": [
    "model_checkpoint = ModelCheckpoint(\n",
    "        os.path.join(str(data_path), 'Best_Good_Bad_Quality_Image_Weights.hdf5'),\n",
    "        monitor='val_loss', mode='min',save_best_only=True, verbose=1, save_weights_only=True)\n",
    "\n",
    "#Callback for reducing learning rate based on validation loss\n",
    "reduce_lr = ReduceLROnPlateau(monitor='val_loss', factor=0.1,patience=3, min_delta=0.0001, verbose=1, min_lr=0.000001)\n",
    "\n",
    "#Callback for storing logs of learning rate, loss and accuracy\n",
    "csvlogger=CSVLogger('model_metrics_tracker.csv')\n",
    "\n",
    "callbacks = [model_checkpoint,reduce_lr,csvlogger]"
   ]
  },
  {
   "cell_type": "code",
   "execution_count": null,
   "metadata": {
    "id": "jR61ZBV1VpW1"
   },
   "outputs": [],
   "source": [
    "# Required in case of class imbalance\n",
    "'''\n",
    "from sklearn.utils import class_weight\n",
    "y_true=np.argmax(Y_train,axis=-1)\n",
    "weights = class_weight.compute_class_weight('balanced',np.unique(y_true),y_true)\n",
    "print(weights)\n",
    "'''"
   ]
  },
  {
   "cell_type": "markdown",
   "metadata": {
    "id": "okHrA_xbVpW5"
   },
   "source": [
    "## Q: Train the model\n",
    "\n",
    "### Your Answer:"
   ]
  },
  {
   "cell_type": "code",
   "execution_count": null,
   "metadata": {
    "id": "7-iz6PdqVpW6"
   },
   "outputs": [],
   "source": [
    "history=model.fit_generator(dataloader(X_train, Y_train, batchsize=32),validation_data=dataloader(X_val, Y_val, batchsize=32),steps_per_epoch=len(X_train) / 32, epochs=100,callbacks=callbacks,verbose=1, shuffle=True, validation_steps=len(X_val)/32)"
   ]
  },
  {
   "cell_type": "markdown",
   "metadata": {
    "id": "TEtxtweRVpW7"
   },
   "source": [
    "## Q: Training Metrics\n",
    "\n",
    "Plot the loss and any other metric of interest on the training and validation data. What observations or comments can you making regarding the training job?\n",
    "\n",
    "### Your Answer:\n",
    "I think the model has trained well. Since the images are less, we can started with a lower learning rate and a simpler model. Certain model improvement techniques can further improve the performance I feel. Something like cyclic learning rates helps model jump out of local minima or maybe augmentations can further help. Experimentation with other other model architectures can help as well. "
   ]
  },
  {
   "cell_type": "code",
   "execution_count": 26,
   "metadata": {
    "id": "cVFYHb_F_iQl"
   },
   "outputs": [],
   "source": [
    "csv=pd.read_csv('model_metrics_tracker.csv')"
   ]
  },
  {
   "cell_type": "code",
   "execution_count": 27,
   "metadata": {
    "colab": {
     "base_uri": "https://localhost:8080/",
     "height": 520
    },
    "id": "FjjS0gveFSb6",
    "outputId": "2d9f83f7-4559-4875-d81a-a40bc3100f51"
   },
   "outputs": [
    {
     "data": {
      "text/html": [
       "\n",
       "  <div id=\"df-802aa000-0df5-435b-8e2b-2be20ab0648a\">\n",
       "    <div class=\"colab-df-container\">\n",
       "      <div>\n",
       "<style scoped>\n",
       "    .dataframe tbody tr th:only-of-type {\n",
       "        vertical-align: middle;\n",
       "    }\n",
       "\n",
       "    .dataframe tbody tr th {\n",
       "        vertical-align: top;\n",
       "    }\n",
       "\n",
       "    .dataframe thead th {\n",
       "        text-align: right;\n",
       "    }\n",
       "</style>\n",
       "<table border=\"1\" class=\"dataframe\">\n",
       "  <thead>\n",
       "    <tr style=\"text-align: right;\">\n",
       "      <th></th>\n",
       "      <th>epoch</th>\n",
       "      <th>accuracy</th>\n",
       "      <th>loss</th>\n",
       "      <th>lr</th>\n",
       "      <th>val_accuracy</th>\n",
       "      <th>val_loss</th>\n",
       "    </tr>\n",
       "  </thead>\n",
       "  <tbody>\n",
       "    <tr>\n",
       "      <th>0</th>\n",
       "      <td>0</td>\n",
       "      <td>0.736970</td>\n",
       "      <td>0.587455</td>\n",
       "      <td>0.00100</td>\n",
       "      <td>0.493506</td>\n",
       "      <td>1.671517</td>\n",
       "    </tr>\n",
       "    <tr>\n",
       "      <th>1</th>\n",
       "      <td>1</td>\n",
       "      <td>0.746667</td>\n",
       "      <td>0.513272</td>\n",
       "      <td>0.00100</td>\n",
       "      <td>0.623377</td>\n",
       "      <td>0.931494</td>\n",
       "    </tr>\n",
       "    <tr>\n",
       "      <th>2</th>\n",
       "      <td>2</td>\n",
       "      <td>0.802424</td>\n",
       "      <td>0.429920</td>\n",
       "      <td>0.00100</td>\n",
       "      <td>0.519481</td>\n",
       "      <td>2.674115</td>\n",
       "    </tr>\n",
       "    <tr>\n",
       "      <th>3</th>\n",
       "      <td>3</td>\n",
       "      <td>0.830303</td>\n",
       "      <td>0.375885</td>\n",
       "      <td>0.00100</td>\n",
       "      <td>0.606061</td>\n",
       "      <td>1.795951</td>\n",
       "    </tr>\n",
       "    <tr>\n",
       "      <th>4</th>\n",
       "      <td>4</td>\n",
       "      <td>0.846061</td>\n",
       "      <td>0.354695</td>\n",
       "      <td>0.00100</td>\n",
       "      <td>0.523810</td>\n",
       "      <td>4.243829</td>\n",
       "    </tr>\n",
       "    <tr>\n",
       "      <th>5</th>\n",
       "      <td>5</td>\n",
       "      <td>0.892121</td>\n",
       "      <td>0.255251</td>\n",
       "      <td>0.00010</td>\n",
       "      <td>0.627706</td>\n",
       "      <td>1.982323</td>\n",
       "    </tr>\n",
       "    <tr>\n",
       "      <th>6</th>\n",
       "      <td>6</td>\n",
       "      <td>0.939394</td>\n",
       "      <td>0.170945</td>\n",
       "      <td>0.00010</td>\n",
       "      <td>0.709957</td>\n",
       "      <td>1.224142</td>\n",
       "    </tr>\n",
       "    <tr>\n",
       "      <th>7</th>\n",
       "      <td>7</td>\n",
       "      <td>0.963636</td>\n",
       "      <td>0.125631</td>\n",
       "      <td>0.00010</td>\n",
       "      <td>0.774892</td>\n",
       "      <td>0.826081</td>\n",
       "    </tr>\n",
       "    <tr>\n",
       "      <th>8</th>\n",
       "      <td>8</td>\n",
       "      <td>0.976970</td>\n",
       "      <td>0.095413</td>\n",
       "      <td>0.00010</td>\n",
       "      <td>0.783550</td>\n",
       "      <td>0.674267</td>\n",
       "    </tr>\n",
       "    <tr>\n",
       "      <th>9</th>\n",
       "      <td>9</td>\n",
       "      <td>0.985455</td>\n",
       "      <td>0.061960</td>\n",
       "      <td>0.00010</td>\n",
       "      <td>0.805195</td>\n",
       "      <td>0.547842</td>\n",
       "    </tr>\n",
       "    <tr>\n",
       "      <th>10</th>\n",
       "      <td>10</td>\n",
       "      <td>0.992727</td>\n",
       "      <td>0.038344</td>\n",
       "      <td>0.00010</td>\n",
       "      <td>0.813853</td>\n",
       "      <td>0.533225</td>\n",
       "    </tr>\n",
       "    <tr>\n",
       "      <th>11</th>\n",
       "      <td>11</td>\n",
       "      <td>0.997576</td>\n",
       "      <td>0.027806</td>\n",
       "      <td>0.00010</td>\n",
       "      <td>0.792208</td>\n",
       "      <td>0.619220</td>\n",
       "    </tr>\n",
       "    <tr>\n",
       "      <th>12</th>\n",
       "      <td>12</td>\n",
       "      <td>0.998788</td>\n",
       "      <td>0.020246</td>\n",
       "      <td>0.00010</td>\n",
       "      <td>0.792208</td>\n",
       "      <td>0.566542</td>\n",
       "    </tr>\n",
       "    <tr>\n",
       "      <th>13</th>\n",
       "      <td>13</td>\n",
       "      <td>0.997576</td>\n",
       "      <td>0.014684</td>\n",
       "      <td>0.00010</td>\n",
       "      <td>0.809524</td>\n",
       "      <td>0.553211</td>\n",
       "    </tr>\n",
       "    <tr>\n",
       "      <th>14</th>\n",
       "      <td>14</td>\n",
       "      <td>0.998788</td>\n",
       "      <td>0.008742</td>\n",
       "      <td>0.00001</td>\n",
       "      <td>0.787879</td>\n",
       "      <td>0.600637</td>\n",
       "    </tr>\n",
       "  </tbody>\n",
       "</table>\n",
       "</div>\n",
       "      <button class=\"colab-df-convert\" onclick=\"convertToInteractive('df-802aa000-0df5-435b-8e2b-2be20ab0648a')\"\n",
       "              title=\"Convert this dataframe to an interactive table.\"\n",
       "              style=\"display:none;\">\n",
       "        \n",
       "  <svg xmlns=\"http://www.w3.org/2000/svg\" height=\"24px\"viewBox=\"0 0 24 24\"\n",
       "       width=\"24px\">\n",
       "    <path d=\"M0 0h24v24H0V0z\" fill=\"none\"/>\n",
       "    <path d=\"M18.56 5.44l.94 2.06.94-2.06 2.06-.94-2.06-.94-.94-2.06-.94 2.06-2.06.94zm-11 1L8.5 8.5l.94-2.06 2.06-.94-2.06-.94L8.5 2.5l-.94 2.06-2.06.94zm10 10l.94 2.06.94-2.06 2.06-.94-2.06-.94-.94-2.06-.94 2.06-2.06.94z\"/><path d=\"M17.41 7.96l-1.37-1.37c-.4-.4-.92-.59-1.43-.59-.52 0-1.04.2-1.43.59L10.3 9.45l-7.72 7.72c-.78.78-.78 2.05 0 2.83L4 21.41c.39.39.9.59 1.41.59.51 0 1.02-.2 1.41-.59l7.78-7.78 2.81-2.81c.8-.78.8-2.07 0-2.86zM5.41 20L4 18.59l7.72-7.72 1.47 1.35L5.41 20z\"/>\n",
       "  </svg>\n",
       "      </button>\n",
       "      \n",
       "  <style>\n",
       "    .colab-df-container {\n",
       "      display:flex;\n",
       "      flex-wrap:wrap;\n",
       "      gap: 12px;\n",
       "    }\n",
       "\n",
       "    .colab-df-convert {\n",
       "      background-color: #E8F0FE;\n",
       "      border: none;\n",
       "      border-radius: 50%;\n",
       "      cursor: pointer;\n",
       "      display: none;\n",
       "      fill: #1967D2;\n",
       "      height: 32px;\n",
       "      padding: 0 0 0 0;\n",
       "      width: 32px;\n",
       "    }\n",
       "\n",
       "    .colab-df-convert:hover {\n",
       "      background-color: #E2EBFA;\n",
       "      box-shadow: 0px 1px 2px rgba(60, 64, 67, 0.3), 0px 1px 3px 1px rgba(60, 64, 67, 0.15);\n",
       "      fill: #174EA6;\n",
       "    }\n",
       "\n",
       "    [theme=dark] .colab-df-convert {\n",
       "      background-color: #3B4455;\n",
       "      fill: #D2E3FC;\n",
       "    }\n",
       "\n",
       "    [theme=dark] .colab-df-convert:hover {\n",
       "      background-color: #434B5C;\n",
       "      box-shadow: 0px 1px 3px 1px rgba(0, 0, 0, 0.15);\n",
       "      filter: drop-shadow(0px 1px 2px rgba(0, 0, 0, 0.3));\n",
       "      fill: #FFFFFF;\n",
       "    }\n",
       "  </style>\n",
       "\n",
       "      <script>\n",
       "        const buttonEl =\n",
       "          document.querySelector('#df-802aa000-0df5-435b-8e2b-2be20ab0648a button.colab-df-convert');\n",
       "        buttonEl.style.display =\n",
       "          google.colab.kernel.accessAllowed ? 'block' : 'none';\n",
       "\n",
       "        async function convertToInteractive(key) {\n",
       "          const element = document.querySelector('#df-802aa000-0df5-435b-8e2b-2be20ab0648a');\n",
       "          const dataTable =\n",
       "            await google.colab.kernel.invokeFunction('convertToInteractive',\n",
       "                                                     [key], {});\n",
       "          if (!dataTable) return;\n",
       "\n",
       "          const docLinkHtml = 'Like what you see? Visit the ' +\n",
       "            '<a target=\"_blank\" href=https://colab.research.google.com/notebooks/data_table.ipynb>data table notebook</a>'\n",
       "            + ' to learn more about interactive tables.';\n",
       "          element.innerHTML = '';\n",
       "          dataTable['output_type'] = 'display_data';\n",
       "          await google.colab.output.renderOutput(dataTable, element);\n",
       "          const docLink = document.createElement('div');\n",
       "          docLink.innerHTML = docLinkHtml;\n",
       "          element.appendChild(docLink);\n",
       "        }\n",
       "      </script>\n",
       "    </div>\n",
       "  </div>\n",
       "  "
      ],
      "text/plain": [
       "    epoch  accuracy      loss       lr  val_accuracy  val_loss\n",
       "0       0  0.736970  0.587455  0.00100      0.493506  1.671517\n",
       "1       1  0.746667  0.513272  0.00100      0.623377  0.931494\n",
       "2       2  0.802424  0.429920  0.00100      0.519481  2.674115\n",
       "3       3  0.830303  0.375885  0.00100      0.606061  1.795951\n",
       "4       4  0.846061  0.354695  0.00100      0.523810  4.243829\n",
       "5       5  0.892121  0.255251  0.00010      0.627706  1.982323\n",
       "6       6  0.939394  0.170945  0.00010      0.709957  1.224142\n",
       "7       7  0.963636  0.125631  0.00010      0.774892  0.826081\n",
       "8       8  0.976970  0.095413  0.00010      0.783550  0.674267\n",
       "9       9  0.985455  0.061960  0.00010      0.805195  0.547842\n",
       "10     10  0.992727  0.038344  0.00010      0.813853  0.533225\n",
       "11     11  0.997576  0.027806  0.00010      0.792208  0.619220\n",
       "12     12  0.998788  0.020246  0.00010      0.792208  0.566542\n",
       "13     13  0.997576  0.014684  0.00010      0.809524  0.553211\n",
       "14     14  0.998788  0.008742  0.00001      0.787879  0.600637"
      ]
     },
     "execution_count": 27,
     "metadata": {},
     "output_type": "execute_result"
    }
   ],
   "source": [
    "csv"
   ]
  },
  {
   "cell_type": "code",
   "execution_count": 28,
   "metadata": {
    "colab": {
     "base_uri": "https://localhost:8080/",
     "height": 295
    },
    "id": "RUnloQc4VpW7",
    "outputId": "df2d65ae-1343-4d01-c57f-d8841ec0539c"
   },
   "outputs": [
    {
     "data": {
      "image/png": "[encoded data removed]",
      "text/plain": [
       "<Figure size 432x288 with 1 Axes>"
      ]
     },
     "metadata": {
      "needs_background": "light"
     },
     "output_type": "display_data"
    }
   ],
   "source": [
    "# summarize history for accuracy\n",
    "plt.plot(csv['accuracy'])\n",
    "plt.plot(csv['val_accuracy'])\n",
    "plt.title('model accuracy')\n",
    "plt.ylabel('accuracy')\n",
    "plt.xlabel('epoch')\n",
    "plt.legend(['train', 'val'], loc='upper left')\n",
    "plt.show()\n"
   ]
  },
  {
   "cell_type": "code",
   "execution_count": 29,
   "metadata": {
    "colab": {
     "base_uri": "https://localhost:8080/",
     "height": 295
    },
    "id": "9YdWtbaFVpW8",
    "outputId": "36e3d6e5-5d2b-4f81-84dc-f5b3a34f9206"
   },
   "outputs": [
    {
     "data": {
      "image/png": "[encoded data removed]",
      "text/plain": [
       "<Figure size 432x288 with 1 Axes>"
      ]
     },
     "metadata": {
      "needs_background": "light"
     },
     "output_type": "display_data"
    }
   ],
   "source": [
    "# summarize history for loss\n",
    "plt.plot(csv['loss'])\n",
    "plt.plot(csv['val_loss'])\n",
    "plt.title('model loss')\n",
    "plt.ylabel('loss')\n",
    "plt.xlabel('epoch')\n",
    "plt.legend(['train', 'val'], loc='upper left')\n",
    "plt.show()"
   ]
  },
  {
   "cell_type": "markdown",
   "metadata": {
    "id": "1uTQdJOvVpW8"
   },
   "source": [
    "## Q: Plotting Predictions\n",
    "Plot some of model predictions with true labels. Share your insights\n",
    "### Your Answer:\n",
    "The model is misclassifying on the basis of contrast and some veins-like branches. Some of the labels look incorrect to the untutored eye as well, where I think the model is picking well."
   ]
  },
  {
   "cell_type": "code",
   "execution_count": null,
   "metadata": {
    "id": "tvtryuqrVpW9"
   },
   "outputs": [],
   "source": [
    "model.load_weights(os.path.join(str(data_path), 'Best_Good_Bad_Quality_Image_Weights.hdf5'))"
   ]
  },
  {
   "cell_type": "code",
   "execution_count": null,
   "metadata": {
    "id": "iqOM9DWYF-Xd"
   },
   "outputs": [],
   "source": [
    "y_pred=[]\n",
    "for idx in range(len(X_val)):\n",
    "    x=cv2.imread(str(image_path)+'/'+X_val[idx])\n",
    "    x=cv2.resize(x, (224,224))\n",
    "    op=model.predict(np.expand_dims(img_standardization(x), axis=0),verbose=1)\n",
    "    y_pred.append(op)\n",
    "    print (index)"
   ]
  },
  {
   "cell_type": "code",
   "execution_count": 59,
   "metadata": {
    "id": "9S5mfFoCHDz6"
   },
   "outputs": [],
   "source": [
    "prediction_y=[]\n",
    "\n",
    "for i in y_pred:\n",
    "  if i[0][0]>0.5:\n",
    "    prediction_y.append(0)\n",
    "  else:\n",
    "    prediction_y.append(1)"
   ]
  },
  {
   "cell_type": "code",
   "execution_count": 60,
   "metadata": {
    "colab": {
     "base_uri": "https://localhost:8080/"
    },
    "id": "nrwEihFHVpW9",
    "outputId": "be35d5fa-dfbd-423c-dda3-09c6ff87783b"
   },
   "outputs": [
    {
     "name": "stdout",
     "output_type": "stream",
     "text": [
      "              precision    recall  f1-score   support\n",
      "\n",
      "           0       0.83      0.77      0.80       100\n",
      "           1       0.79      0.84      0.81       100\n",
      "\n",
      "    accuracy                           0.81       200\n",
      "   macro avg       0.81      0.80      0.80       200\n",
      "weighted avg       0.81      0.81      0.80       200\n",
      "\n",
      "[[77 23]\n",
      " [16 84]]\n"
     ]
    }
   ],
   "source": [
    "import sklearn.metrics as metrics\n",
    "\n",
    "print(metrics.classification_report(Y_val, prediction_y))\n",
    "print(metrics.confusion_matrix(Y_val, prediction_y))"
   ]
  },
  {
   "cell_type": "code",
   "execution_count": null,
   "metadata": {
    "id": "JbkOyltDBR4Q"
   },
   "outputs": [],
   "source": [
    "for idx, row in enumerate(Y_val):\n",
    "  if row==prediction_y[idx]:\n",
    "    plot_image(str(image_path)+'/'+X_val[idx], label=row)"
   ]
  },
  {
   "cell_type": "code",
   "execution_count": null,
   "metadata": {
    "id": "rjGLvro3BYML"
   },
   "outputs": [],
   "source": [
    "for idx, row in enumerate(Y_val):\n",
    "  if row!=prediction_y[idx]:\n",
    "    plot_image(str(image_path)+'/'+X_val[idx], label=row)"
   ]
  },
  {
   "cell_type": "markdown",
   "metadata": {
    "id": "o1x1_XlcVpW-"
   },
   "source": [
    "## Q: Improvements\n",
    "- Is your model making any obvious errors? \n",
    "- Compare the results of the CNN model with the simple model you trained earlier. Comment on the outcome of this comparison.\n",
    "\n",
    "### Your Answer:\n",
    "\n",
    "1. With the limited understanding of subject matter that I have, I think the model is confused with brightness majorly. Any bright spots on the image, it marks it as a good quality image. Probably misclassified images can oversampled or augmented and the model can be trained. Another way to approach this would be figure out the misclassified samples in the training set and finetune the last few layers of the model on them with a lower learning rate. I also think the labels in the image are a bit subjective and images which are a bit on the bad side have been classified as good.\n",
    "\n",
    "2. The results in both the models is not much different. Class 0 has 3% less recall in CNN and Class 1 has 6% less recall. Now the thing is statistically these results are not that significant because the simple model had just 60 images in the validation set and here we have more than thrice of them. A model comparison would be ideal on the same evaluation sets."
   ]
  },
  {
   "cell_type": "code",
   "execution_count": null,
   "metadata": {
    "id": "7X_qxRnvVpW-"
   },
   "outputs": [],
   "source": []
  },
  {
   "cell_type": "code",
   "execution_count": null,
   "metadata": {
    "id": "LO__WX6OVpW-"
   },
   "outputs": [],
   "source": []
  },
  {
   "cell_type": "markdown",
   "metadata": {
    "id": "FOtZngCqVpW_"
   },
   "source": [
    "# Step 3: Multi-level Classification"
   ]
  },
  {
   "cell_type": "markdown",
   "metadata": {
    "id": "kz9w7rfVVpW_"
   },
   "source": [
    "In this stage, consider building a model to predict the image quality with multiple class labels: good, accept and bad. You are not expected to provide code or achieve perfection! Rather, we would like to at least see in writing what next steps you think are useful and why. Specifically, try to address:\n",
    "- What methods you would implement from a model and/or data preprocessing standpoint\n",
    "- What challenges you foresee in implementing your selected model and/or data preprocessing approach\n",
    "- How you would evaluate a model that predicts these 3-class labels against the previous models?"
   ]
  },
  {
   "cell_type": "code",
   "execution_count": 1,
   "metadata": {
    "id": "3YzcBT0JVpXA"
   },
   "outputs": [
    {
     "data": {
      "text/plain": [
       "'\\n1. I think if there\\'s a clear definition and labels for what \"accept\" images are, I\\'ll stick to DenseNet-121 for classification. Else, with some help from medical professionals, one could bucket the current binary classification\\nmodel on the basis of thresholds in three different bins. Also, I think using photometric augmentations would help as currently the model is misclassifying images with low brightness\\n\\n2. Challenges could include interclass misclassification at all the three levels, because when it comes medical images, I think annotating or labeling them involves subjectivity at some point. For example, if the same X-ray is\\nshown to two radiologists for quality, it is  likely in the extreme case that both have different opinions on the quality. In my experience, this problem is difficult to solve. Since, the model can only be as good as the data. So, I foresee\\ndata annotation and misclassification challenges consequently\\n\\n3. At an individual class level, I think F-1 score would be a good metric. Another thing would be see the number of cases that are acceptable or good and classified as bad or vica versa. On the other hand,\\nI think the accept class can be seen combined as a part of the good class in a strategic way (weighted averaging) when comparing against the bad quality images.\\n\\n'"
      ]
     },
     "execution_count": 1,
     "metadata": {},
     "output_type": "execute_result"
    }
   ],
   "source": [
    "'''\n",
    "1. I think if there's a clear definition and labels for what \"accept\" images are, I'll stick to DenseNet-121 for classification. Else, with some help from medical professionals, one could bucket the current binary classification\n",
    "model on the basis of thresholds in three different bins. Also, I think using photometric augmentations would help as currently the model is misclassifying images with low brightness\n",
    "\n",
    "2. Challenges could include interclass misclassification at all the three levels, because when it comes medical images, I think annotating or labeling them involves subjectivity at some point. For example, if the same X-ray is\n",
    "shown to two radiologists for quality, it is  likely in the extreme case that both have different opinions on the quality. In my experience, this problem is difficult to solve. Since, the model can only be as good as the data. So, I foresee\n",
    "data annotation and misclassification challenges consequently\n",
    "\n",
    "3. At an individual class level, I think F-1 score would be a good metric. Another thing would be see the number of cases that are acceptable or good and classified as bad or vica versa. On the other hand,\n",
    "I think the accept class can be seen combined as a part of the good class in a strategic way (weighted averaging) when comparing against the bad quality images.\n",
    "\n",
    "'''"
   ]
  },
  {
   "cell_type": "code",
   "execution_count": null,
   "metadata": {
    "id": "kSKkH8isVpXA"
   },
   "outputs": [],
   "source": []
  },
  {
   "cell_type": "code",
   "execution_count": null,
   "metadata": {
    "id": "Tz0A2w_EVpXA"
   },
   "outputs": [],
   "source": []
  },
  {
   "cell_type": "code",
   "execution_count": null,
   "metadata": {
    "id": "-Rvw3HWsVpXA"
   },
   "outputs": [],
   "source": [
    "\n"
   ]
  },
  {
   "cell_type": "code",
   "execution_count": null,
   "metadata": {
    "id": "XgYofNSDVpXA"
   },
   "outputs": [],
   "source": []
  },
  {
   "cell_type": "code",
   "execution_count": null,
   "metadata": {
    "id": "9raeNgl4VpXB"
   },
   "outputs": [],
   "source": []
  },
  {
   "cell_type": "code",
   "execution_count": null,
   "metadata": {
    "id": "hL5eovVQVpXB"
   },
   "outputs": [],
   "source": []
  },
  {
   "cell_type": "code",
   "execution_count": null,
   "metadata": {
    "id": "F-kNoBS5VpXB"
   },
   "outputs": [],
   "source": []
  },
  {
   "cell_type": "code",
   "execution_count": null,
   "metadata": {
    "id": "K-xEdQ72VpXB"
   },
   "outputs": [],
   "source": []
  }
 ],
 "metadata": {
  "accelerator": "GPU",
  "colab": {
   "collapsed_sections": [],
   "name": "Tesseract ML Challenge .ipynb",
   "provenance": []
  },
  "kernelspec": {
   "display_name": "Python 3",
   "language": "python",
   "name": "python3"
  },
  "language_info": {
   "codemirror_mode": {
    "name": "ipython",
    "version": 3
   },
   "file_extension": ".py",
   "mimetype": "text/x-python",
   "name": "python",
   "nbconvert_exporter": "python",
   "pygments_lexer": "ipython3",
   "version": "3.8.8"
  }
 },
 "nbformat": 4,
 "nbformat_minor": 1
}
